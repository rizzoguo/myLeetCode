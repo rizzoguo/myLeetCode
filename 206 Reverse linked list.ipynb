{
 "cells": [
  {
   "cell_type": "markdown",
   "id": "43e3d7ab",
   "metadata": {},
   "source": [
    "* 206 Reverse linked list"
   ]
  },
  {
   "cell_type": "code",
   "execution_count": null,
   "id": "5da4ca61",
   "metadata": {},
   "outputs": [],
   "source": [
    "#iteration\n",
    "# Definition for singly-linked list.\n",
    "# class ListNode:\n",
    "#     def __init__(self, val=0, next=None):\n",
    "#         self.val = val\n",
    "#         self.next = next\n",
    "\n",
    "class Solution:\n",
    "    def reverseList(self, head: ListNode) -> ListNode:\n",
    "        prev, curr = None, head\n",
    "\n",
    "        while curr:\n",
    "            temp = curr.next\n",
    "            curr.next = prev\n",
    "            prev = curr\n",
    "            curr = temp\n",
    "        return prev"
   ]
  }
 ],
 "metadata": {
  "kernelspec": {
   "display_name": ".venv",
   "language": "python",
   "name": "python3"
  },
  "language_info": {
   "name": "python",
   "version": "3.13.2"
  }
 },
 "nbformat": 4,
 "nbformat_minor": 5
}
