{
 "cells": [
  {
   "cell_type": "markdown",
   "id": "6ddccdd8",
   "metadata": {},
   "source": [
    "* 704 Binary search"
   ]
  },
  {
   "cell_type": "code",
   "execution_count": 1,
   "id": "4b78f040",
   "metadata": {},
   "outputs": [],
   "source": [
    "#\n",
    "class Solution:\n",
    "    def search(self, nums: list[int], target: int) -> int:\n",
    "        for i, v in enumerate(nums):\n",
    "            if v == target:\n",
    "                return i\n",
    "        \n",
    "        return -1"
   ]
  },
  {
   "cell_type": "code",
   "execution_count": null,
   "id": "3df720a6",
   "metadata": {},
   "outputs": [],
   "source": [
    "#iterative binary search\n",
    "class Solution:\n",
    "    def search(self, nums: list[int], target: int) -> int:\n",
    "        l, r = 0, len(nums) - 1\n",
    "\n",
    "        while l <= r:\n",
    "            m = l + (r - l) // 2\n",
    "\n",
    "            if nums[m] > target:\n",
    "                r = m - 1\n",
    "            elif nums[m] < target:\n",
    "                l = m + 1\n",
    "            else:\n",
    "                return m\n",
    "        \n",
    "        return -1"
   ]
  }
 ],
 "metadata": {
  "kernelspec": {
   "display_name": ".venv",
   "language": "python",
   "name": "python3"
  },
  "language_info": {
   "codemirror_mode": {
    "name": "ipython",
    "version": 3
   },
   "file_extension": ".py",
   "mimetype": "text/x-python",
   "name": "python",
   "nbconvert_exporter": "python",
   "pygments_lexer": "ipython3",
   "version": "3.13.2"
  }
 },
 "nbformat": 4,
 "nbformat_minor": 5
}
