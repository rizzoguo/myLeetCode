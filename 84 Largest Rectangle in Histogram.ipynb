{
 "cells": [
  {
   "cell_type": "markdown",
   "id": "33812128",
   "metadata": {},
   "source": [
    "* 84 Largest Rectangle In Histogram"
   ]
  },
  {
   "cell_type": "code",
   "execution_count": 1,
   "id": "07df57a0",
   "metadata": {},
   "outputs": [],
   "source": [
    "class Solution:\n",
    "    def largestRectangleArea(self, heights: list[int]) -> int:\n",
    "        maxArea = 0\n",
    "        stack = []\n",
    "\n",
    "        for i, h in enumerate(heights):\n",
    "            start = i\n",
    "            while stack and stack[-1][1] > h:\n",
    "                index, height = stack.pop()\n",
    "                maxArea = max(maxArea, height * (i - index))\n",
    "                start = index\n",
    "            \n",
    "            stack.append((start, h))\n",
    "\n",
    "        for i, h in stack:\n",
    "            maxArea = max(maxArea, h * (len(heights) - i))\n",
    "\n",
    "        return maxArea"
   ]
  },
  {
   "cell_type": "code",
   "execution_count": null,
   "id": "0560b67a",
   "metadata": {},
   "outputs": [],
   "source": []
  }
 ],
 "metadata": {
  "kernelspec": {
   "display_name": ".venv",
   "language": "python",
   "name": "python3"
  },
  "language_info": {
   "name": "python",
   "version": "3.13.2"
  }
 },
 "nbformat": 4,
 "nbformat_minor": 5
}
