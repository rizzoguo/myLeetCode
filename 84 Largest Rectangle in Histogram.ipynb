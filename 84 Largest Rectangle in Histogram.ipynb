{
 "cells": [
  {
   "cell_type": "markdown",
   "id": "33812128",
   "metadata": {},
   "source": [
    "* 84 Largest Rectangle In Histogram"
   ]
  },
  {
   "cell_type": "code",
   "execution_count": null,
   "id": "07df57a0",
   "metadata": {},
   "outputs": [],
   "source": [
    "class Solution:\n",
    "    def largestRectangleArea(self, heights: list[int]) -> int:\n",
    "        "
   ]
  }
 ],
 "metadata": {
  "language_info": {
   "name": "python"
  }
 },
 "nbformat": 4,
 "nbformat_minor": 5
}
