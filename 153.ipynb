{
 "cells": [
  {
   "cell_type": "markdown",
   "id": "3db00ecc",
   "metadata": {},
   "source": [
    "* 153 "
   ]
  },
  {
   "cell_type": "code",
   "execution_count": null,
   "id": "5627e68c",
   "metadata": {},
   "outputs": [],
   "source": []
  }
 ],
 "metadata": {
  "kernelspec": {
   "display_name": ".venv",
   "language": "python",
   "name": "python3"
  },
  "language_info": {
   "name": "python",
   "version": "3.13.2"
  }
 },
 "nbformat": 4,
 "nbformat_minor": 5
}
