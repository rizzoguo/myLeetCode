{
 "cells": [
  {
   "cell_type": "markdown",
   "id": "3db00ecc",
   "metadata": {},
   "source": [
    "* 4"
   ]
  },
  {
   "cell_type": "code",
   "execution_count": null,
   "id": "5627e68c",
   "metadata": {},
   "outputs": [],
   "source": [
    "#brute force\n",
    "class Solution:\n",
    "    def findMedianSortedArrays(self, nums1: List[int], nums2: List[int]) -> float:\n",
    "        len1 = len(nums1)\n",
    "        len2 = len(nums2)\n",
    "        merged = nums1 + nums2\n",
    "        merged.sort()\n",
    "\n",
    "        totalLen = len(merged)\n",
    "        if totalLen % 2 == 0:\n",
    "            return (merged[totalLen // 2 - 1] + merged[totalLen // 2]) / 2.0\n",
    "        else:\n",
    "            return merged[totalLen // 2]"
   ]
  }
 ],
 "metadata": {
  "kernelspec": {
   "display_name": ".venv",
   "language": "python",
   "name": "python3"
  },
  "language_info": {
   "name": "python",
   "version": "3.13.2"
  }
 },
 "nbformat": 4,
 "nbformat_minor": 5
}
