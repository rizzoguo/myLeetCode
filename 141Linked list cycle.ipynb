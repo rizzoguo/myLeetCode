{
 "cells": [
  {
   "cell_type": "markdown",
   "id": "42318294",
   "metadata": {},
   "source": [
    "* 141 Linked list cycle"
   ]
  },
  {
   "cell_type": "code",
   "execution_count": null,
   "id": "c0e718f1",
   "metadata": {},
   "outputs": [],
   "source": [
    "#Fast and slow pointers\n",
    "# Definition for singly-linked list.\n",
    "# class ListNode:\n",
    "#     def __init__(self, val=0, next=None):\n",
    "#         self.val = val\n",
    "#         self.next = next\n",
    "\n",
    "class Solution:\n",
    "    def hasCycle(self, head: Optional[ListNode]) -> bool:\n",
    "        "
   ]
  }
 ],
 "metadata": {
  "language_info": {
   "name": "python"
  }
 },
 "nbformat": 4,
 "nbformat_minor": 5
}
