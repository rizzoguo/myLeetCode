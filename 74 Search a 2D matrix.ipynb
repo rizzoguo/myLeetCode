{
 "cells": [
  {
   "cell_type": "markdown",
   "id": "02ac2c24",
   "metadata": {},
   "source": [
    "* 74 Search a 2D matrix"
   ]
  },
  {
   "cell_type": "code",
   "execution_count": 1,
   "id": "049ae9bc",
   "metadata": {},
   "outputs": [],
   "source": [
    "#Brute force\n",
    "class Solution:\n",
    "    def searchMatrix(self, matrix: list[list[int]], target: int) -> bool:\n",
    "        for i in range(len(matrix)):\n",
    "            for j in range(len(matrix[0])):\n",
    "                if matrix[i][j] == target:\n",
    "                    return True\n",
    "        \n",
    "        return False"
   ]
  },
  {
   "cell_type": "code",
   "execution_count": null,
   "id": "93f146ec",
   "metadata": {},
   "outputs": [],
   "source": []
  }
 ],
 "metadata": {
  "kernelspec": {
   "display_name": ".venv",
   "language": "python",
   "name": "python3"
  },
  "language_info": {
   "codemirror_mode": {
    "name": "ipython",
    "version": 3
   },
   "file_extension": ".py",
   "mimetype": "text/x-python",
   "name": "python",
   "nbconvert_exporter": "python",
   "pygments_lexer": "ipython3",
   "version": "3.13.2"
  }
 },
 "nbformat": 4,
 "nbformat_minor": 5
}
