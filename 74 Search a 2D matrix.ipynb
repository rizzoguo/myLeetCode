{
 "cells": [
  {
   "cell_type": "markdown",
   "id": "02ac2c24",
   "metadata": {},
   "source": [
    "* 74 Search a 2D matrix"
   ]
  },
  {
   "cell_type": "code",
   "execution_count": 1,
   "id": "049ae9bc",
   "metadata": {},
   "outputs": [],
   "source": [
    "#Brute force\n",
    "class Solution:\n",
    "    def searchMatrix(self, matrix: list[list[int]], target: int) -> bool:\n",
    "        for i in range(len(matrix)):\n",
    "            for j in range(len(matrix[0])):\n",
    "                if matrix[i][j] == target:\n",
    "                    return True\n",
    "        \n",
    "        return False"
   ]
  },
  {
   "cell_type": "code",
   "execution_count": 2,
   "id": "93f146ec",
   "metadata": {},
   "outputs": [],
   "source": [
    "#Binary Search\n",
    "class Solution:\n",
    "    def searchMatrix(self, matrix: list[list[int]], target: int) -> bool:\n",
    "        rows, cols = len(matrix), len(matrix[0])\n",
    "        top, btm = 0, rows - 1\n",
    "\n",
    "        while top <= btm:\n",
    "            row = (top + btm) // 2\n",
    "\n",
    "            if target < matrix[row][0]:\n",
    "                btm = row - 1\n",
    "            elif target > matrix[row][-1]:\n",
    "                top = row + 1\n",
    "            else:\n",
    "                break\n",
    "        \n",
    "        row = (top + btm) // 2\n",
    "        l, r = 0, cols - 1\n",
    "\n",
    "        while l <= r:\n",
    "            mid = (l + r) // 2\n",
    "\n",
    "            if target < matrix[row][mid]:\n",
    "                r = mid - 1\n",
    "            elif target > matrix[row][mid]:\n",
    "                l = mid + 1\n",
    "            else:\n",
    "                return True\n",
    "        \n",
    "        return False"
   ]
  },
  {
   "cell_type": "code",
   "execution_count": null,
   "id": "61e5e8da",
   "metadata": {},
   "outputs": [],
   "source": []
  }
 ],
 "metadata": {
  "kernelspec": {
   "display_name": ".venv",
   "language": "python",
   "name": "python3"
  },
  "language_info": {
   "codemirror_mode": {
    "name": "ipython",
    "version": 3
   },
   "file_extension": ".py",
   "mimetype": "text/x-python",
   "name": "python",
   "nbconvert_exporter": "python",
   "pygments_lexer": "ipython3",
   "version": "3.13.2"
  }
 },
 "nbformat": 4,
 "nbformat_minor": 5
}
